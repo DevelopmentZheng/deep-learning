{
  "nbformat": 4,
  "nbformat_minor": 0,
  "metadata": {
    "colab": {
      "provenance": [],
      "mount_file_id": "1nFYo_BfIsUYD_DT8aNNBv3vUCSDaNYpn",
      "authorship_tag": "ABX9TyN15A8CismK1PYDCD6GixTi",
      "include_colab_link": true
    },
    "kernelspec": {
      "name": "python3",
      "display_name": "Python 3"
    },
    "language_info": {
      "name": "python"
    },
    "gpuClass": "standard"
  },
  "cells": [
    {
      "cell_type": "markdown",
      "metadata": {
        "id": "view-in-github",
        "colab_type": "text"
      },
      "source": [
        "<a href=\"https://colab.research.google.com/github/DevelopmentZheng/deep-learning/blob/master/first.ipynb\" target=\"_parent\"><img src=\"https://colab.research.google.com/assets/colab-badge.svg\" alt=\"Open In Colab\"/></a>"
      ]
    },
    {
      "cell_type": "code",
      "execution_count": null,
      "metadata": {
        "colab": {
          "base_uri": "https://localhost:8080/"
        },
        "id": "NRF4On08uFST",
        "outputId": "d270be1a-c391-418a-ccd5-7ed2605e0467"
      },
      "outputs": [
        {
          "output_type": "stream",
          "name": "stdout",
          "text": [
            "Thu Mar 30 08:59:04 2023       \n",
            "+-----------------------------------------------------------------------------+\n",
            "| NVIDIA-SMI 525.85.12    Driver Version: 525.85.12    CUDA Version: 12.0     |\n",
            "|-------------------------------+----------------------+----------------------+\n",
            "| GPU  Name        Persistence-M| Bus-Id        Disp.A | Volatile Uncorr. ECC |\n",
            "| Fan  Temp  Perf  Pwr:Usage/Cap|         Memory-Usage | GPU-Util  Compute M. |\n",
            "|                               |                      |               MIG M. |\n",
            "|===============================+======================+======================|\n",
            "|   0  Tesla T4            Off  | 00000000:00:04.0 Off |                    0 |\n",
            "| N/A   45C    P8     9W /  70W |      0MiB / 15360MiB |      0%      Default |\n",
            "|                               |                      |                  N/A |\n",
            "+-------------------------------+----------------------+----------------------+\n",
            "                                                                               \n",
            "+-----------------------------------------------------------------------------+\n",
            "| Processes:                                                                  |\n",
            "|  GPU   GI   CI        PID   Type   Process name                  GPU Memory |\n",
            "|        ID   ID                                                   Usage      |\n",
            "|=============================================================================|\n",
            "|  No running processes found                                                 |\n",
            "+-----------------------------------------------------------------------------+\n"
          ]
        }
      ],
      "source": [
        "!nvidia-smi\n"
      ]
    },
    {
      "cell_type": "markdown",
      "source": [
        "# 新段落"
      ],
      "metadata": {
        "id": "8fiKkCj9zCP-"
      }
    },
    {
      "cell_type": "code",
      "source": [
        "!python -V"
      ],
      "metadata": {
        "colab": {
          "base_uri": "https://localhost:8080/"
        },
        "id": "0vSEJEV1uMqw",
        "outputId": "87f3b134-6f3f-4a14-ba4d-5b7c2e0d5d5f"
      },
      "execution_count": null,
      "outputs": [
        {
          "output_type": "stream",
          "name": "stdout",
          "text": [
            "Python 3.9.16\n"
          ]
        }
      ]
    },
    {
      "cell_type": "code",
      "source": [
        "! ls\n"
      ],
      "metadata": {
        "colab": {
          "base_uri": "https://localhost:8080/"
        },
        "id": "T44q_2rruiSu",
        "outputId": "56e046cc-d86b-4e3f-bd8c-c96c7f9f6397"
      },
      "execution_count": null,
      "outputs": [
        {
          "output_type": "stream",
          "name": "stdout",
          "text": [
            "drive  sample_data\n"
          ]
        }
      ]
    },
    {
      "cell_type": "code",
      "source": [
        "!ls\n"
      ],
      "metadata": {
        "colab": {
          "base_uri": "https://localhost:8080/"
        },
        "id": "7EQxEgYV04Al",
        "outputId": "4d7e5e1c-8d04-4b41-b313-06a940926b5d"
      },
      "execution_count": null,
      "outputs": [
        {
          "output_type": "stream",
          "name": "stdout",
          "text": [
            "drive  sample_data\n"
          ]
        }
      ]
    },
    {
      "cell_type": "code",
      "source": [
        "!pip install trtpy -U"
      ],
      "metadata": {
        "colab": {
          "base_uri": "https://localhost:8080/"
        },
        "id": "N--MgB0j05oy",
        "outputId": "b7f66972-6009-449c-a3d9-ea4c68a38a1b"
      },
      "execution_count": null,
      "outputs": [
        {
          "output_type": "stream",
          "name": "stdout",
          "text": [
            "Looking in indexes: https://pypi.org/simple, https://us-python.pkg.dev/colab-wheels/public/simple/\n",
            "Collecting trtpy\n",
            "  Downloading trtpy-1.2.6.tar.gz (222 kB)\n",
            "\u001b[2K     \u001b[90m━━━━━━━━━━━━━━━━━━━━━━━━━━━━━━━━━━━━━━━\u001b[0m \u001b[32m222.7/222.7 KB\u001b[0m \u001b[31m8.9 MB/s\u001b[0m eta \u001b[36m0:00:00\u001b[0m\n",
            "\u001b[?25h  Preparing metadata (setup.py) ... \u001b[?25l\u001b[?25hdone\n",
            "Requirement already satisfied: numpy in /usr/local/lib/python3.9/dist-packages (from trtpy) (1.22.4)\n",
            "Requirement already satisfied: requests in /usr/local/lib/python3.9/dist-packages (from trtpy) (2.27.1)\n",
            "Requirement already satisfied: tqdm in /usr/local/lib/python3.9/dist-packages (from trtpy) (4.65.0)\n",
            "Requirement already satisfied: idna<4,>=2.5 in /usr/local/lib/python3.9/dist-packages (from requests->trtpy) (3.4)\n",
            "Requirement already satisfied: urllib3<1.27,>=1.21.1 in /usr/local/lib/python3.9/dist-packages (from requests->trtpy) (1.26.15)\n",
            "Requirement already satisfied: charset-normalizer~=2.0.0 in /usr/local/lib/python3.9/dist-packages (from requests->trtpy) (2.0.12)\n",
            "Requirement already satisfied: certifi>=2017.4.17 in /usr/local/lib/python3.9/dist-packages (from requests->trtpy) (2022.12.7)\n",
            "Building wheels for collected packages: trtpy\n",
            "  Building wheel for trtpy (setup.py) ... \u001b[?25l\u001b[?25hdone\n",
            "  Created wheel for trtpy: filename=trtpy-1.2.6-py3-none-any.whl size=231129 sha256=ee7b8bad09ee138c9856971c585f4fcf281c46550ae547e6a3b71a7b86387408\n",
            "  Stored in directory: /root/.cache/pip/wheels/c6/9c/09/4946d1757050ff72f70d0afb6e0608ca4beb86228ecf16a1da\n",
            "Successfully built trtpy\n",
            "Installing collected packages: trtpy\n",
            "Successfully installed trtpy-1.2.6\n"
          ]
        }
      ]
    },
    {
      "cell_type": "code",
      "source": [
        "!ls\n"
      ],
      "metadata": {
        "colab": {
          "base_uri": "https://localhost:8080/"
        },
        "id": "8yaKXgCz1EwF",
        "outputId": "96685c6e-15c1-48f7-dbbe-c422da9ef382"
      },
      "execution_count": null,
      "outputs": [
        {
          "output_type": "stream",
          "name": "stdout",
          "text": [
            "drive  sample_data\n"
          ]
        }
      ]
    },
    {
      "cell_type": "code",
      "source": [
        "!echo alias trtpy=\\\"python -m trtpy\\\">>~./bashrc\n"
      ],
      "metadata": {
        "colab": {
          "base_uri": "https://localhost:8080/"
        },
        "id": "KaSxNQd01_kd",
        "outputId": "2bb92d22-02fb-491e-9f2e-c44e547c3123"
      },
      "execution_count": null,
      "outputs": [
        {
          "output_type": "stream",
          "name": "stdout",
          "text": [
            "/bin/bash: ~./bashrc: No such file or directory\n"
          ]
        }
      ]
    },
    {
      "cell_type": "code",
      "source": [
        "!echo alias trtpy=\\\"python -m trtpy\\\">> ~/.bashrc"
      ],
      "metadata": {
        "id": "QVBHlZC62ja2"
      },
      "execution_count": null,
      "outputs": []
    },
    {
      "cell_type": "code",
      "source": [
        "!echo alias trtpy= \\\"python -m tartly\\\">> ~/.bashrc"
      ],
      "metadata": {
        "id": "5bvmoPm44NhQ"
      },
      "execution_count": null,
      "outputs": []
    },
    {
      "cell_type": "code",
      "source": [
        "!trtpy info"
      ],
      "metadata": {
        "colab": {
          "base_uri": "https://localhost:8080/"
        },
        "id": "7ND6JMI42sn3",
        "outputId": "2016ab8c-d833-48d5-a1c6-ae837a2a56f5"
      },
      "execution_count": null,
      "outputs": [
        {
          "output_type": "stream",
          "name": "stdout",
          "text": [
            "/bin/bash: trtpy: command not found\n"
          ]
        }
      ]
    },
    {
      "cell_type": "code",
      "source": [
        "!source ~/.bashrc"
      ],
      "metadata": {
        "id": "D3ByALAx2v9m"
      },
      "execution_count": null,
      "outputs": []
    },
    {
      "cell_type": "code",
      "source": [
        "! trtpy info"
      ],
      "metadata": {
        "colab": {
          "base_uri": "https://localhost:8080/"
        },
        "id": "ibr9dtZk25GV",
        "outputId": "572fdfff-f69b-42f2-b617-c8992d3a1e40"
      },
      "execution_count": null,
      "outputs": [
        {
          "output_type": "stream",
          "name": "stdout",
          "text": [
            "/bin/bash: trtpy: command not found\n"
          ]
        }
      ]
    },
    {
      "cell_type": "code",
      "source": [
        "!python -m trtpy info"
      ],
      "metadata": {
        "colab": {
          "base_uri": "https://localhost:8080/"
        },
        "id": "OLLjiLhP285m",
        "outputId": "128f9786-b6cc-48c8-df52-6d7c1c911192"
      },
      "execution_count": null,
      "outputs": [
        {
          "output_type": "stream",
          "name": "stdout",
          "text": [
            "Variables: \n",
            "  cpp_packages_root = /usr/local/lib/python3.9/dist-packages/trtpy/cpp-packages\n",
            "  hub_url = http://zifuture.com:1556/fs/25.shared\n",
            "  nvbin_version = v7.0\n",
            "  os_name = linux\n",
            "  pydll_path = /usr/lib\n",
            "  pypi_base_url = http://zifuture.com:1556/fs/{key}\n",
            "  python_version = 3.9\n",
            "  python_version_module_name = py39\n",
            "  sysmode = NoInit\n",
            "  trtpy_lib_root = /usr/local/lib/python3.9/dist-packages/trtpy/lib\n",
            "  trtpy_root = /usr/local/lib/python3.9/dist-packages/trtpy\n",
            "  version = 1.2.6\n",
            "  CPP_PKG = /usr/local/lib/python3.9/dist-packages/trtpy/cpp-packages\n",
            "  TRTPRO_INCLUDE = /usr/local/lib/python3.9/dist-packages/trtpy/include\n",
            "  SYS_LIB = /usr/local/lib/python3.9/dist-packages/trtpy/lib\n",
            "  PYTHON_LINK_NAME = None\n",
            "  PYTHON_INCLUDE = /usr/include/None\n",
            "  PYTHON_LIB = /usr/lib\n"
          ]
        }
      ]
    },
    {
      "cell_type": "code",
      "source": [
        "!python -m trtpy get-series cuda-driver-api"
      ],
      "metadata": {
        "colab": {
          "base_uri": "https://localhost:8080/"
        },
        "id": "FKTWVRpM3Y_4",
        "outputId": "ea3b7f35-4abd-4f31-8b67-a71d0dc41300"
      },
      "execution_count": null,
      "outputs": [
        {
          "output_type": "stream",
          "name": "stdout",
          "text": [
            "cuda-driver-api has exists, overwrite? (Y=yes, N=no): default [Y]:\n",
            "^C\n"
          ]
        }
      ]
    },
    {
      "cell_type": "code",
      "source": [
        "!python -m trtpy set-key hivipkey"
      ],
      "metadata": {
        "colab": {
          "base_uri": "https://localhost:8080/"
        },
        "id": "tdIP6OX04rYY",
        "outputId": "c54edc29-0177-4bcb-9c60-8efee97c33e8"
      },
      "execution_count": null,
      "outputs": [
        {
          "output_type": "stream",
          "name": "stdout",
          "text": [
            "Done, key is [hivipkey], file is [/root/.cache/trtpy/key.txt]\n"
          ]
        }
      ]
    },
    {
      "cell_type": "code",
      "source": [],
      "metadata": {
        "id": "X9DoJBiM41fg"
      },
      "execution_count": null,
      "outputs": []
    }
  ]
}